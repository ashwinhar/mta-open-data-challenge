{
 "cells": [
  {
   "cell_type": "code",
   "execution_count": 3,
   "id": "ed1abfd4-76f2-4227-a04c-7700da33010a",
   "metadata": {},
   "outputs": [
    {
     "name": "stdout",
     "output_type": "stream",
     "text": [
      "Intel MKL WARNING: Support of Intel(R) Streaming SIMD Extensions 4.2 (Intel(R) SSE4.2) enabled only processors has been deprecated. Intel oneAPI Math Kernel Library 2025.0 will require Intel(R) Advanced Vector Extensions (Intel(R) AVX) instructions.\n",
      "Intel MKL WARNING: Support of Intel(R) Streaming SIMD Extensions 4.2 (Intel(R) SSE4.2) enabled only processors has been deprecated. Intel oneAPI Math Kernel Library 2025.0 will require Intel(R) Advanced Vector Extensions (Intel(R) AVX) instructions.\n"
     ]
    }
   ],
   "source": [
    "# Full setup\n",
    "import duckdb\n",
    "import pandas as pd\n",
    "from sodapy import Socrata\n",
    "import database_setup.database_setup as dbs\n",
    "import database_setup.mta_dataset as mta\n",
    "from dotenv import load_dotenv\n",
    "import os\n",
    "\n",
    "load_dotenv()\n",
    "\n",
    "%reload_ext sql\n",
    "conn = dbs.get_database_connection(os.getenv('DEV_DATABASE'))\n",
    "%sql conn --alias duckdb\n"
   ]
  },
  {
   "cell_type": "code",
   "execution_count": 4,
   "metadata": {},
   "outputs": [],
   "source": [
    "# Open Data Constsants\n",
    "NY_OPEN_DATA_API_TOKEN = os.getenv('NY_OPEN_DATA_API_TOKEN')\n",
    "NY_OPEN_DATA_USERNAME = os.getenv('NY_OPEN_DATA_USERNAME')\n",
    "NY_OPEN_DATA_PASSWORD = os.getenv('NY_OPEN_DATA_PASSWORD')\n",
    "\n",
    "# Database Constants\n",
    "MTA_SCHEMA = os.getenv('MTA_SCHEMA')\n",
    "DEV_DATABASE = os.getenv('DEV_DATABASE')\n",
    "MANUAL_ENTRY_SCHEMA = os.getenv('MANUAL_ENTRY_SCHEMA')"
   ]
  },
  {
   "cell_type": "markdown",
   "id": "50166e8c",
   "metadata": {},
   "source": [
    "## Testing new filter on the Socrata Client"
   ]
  },
  {
   "cell_type": "code",
   "execution_count": 20,
   "id": "325f8ecf",
   "metadata": {},
   "outputs": [],
   "source": [
    "start_time = \"'2023-01-02T00:00:00'\"\n",
    "end_time = \"'2023-01-04T0:00:00'\"\n",
    "\n",
    "client = Socrata(\"data.ny.gov\",\n",
    "                     NY_OPEN_DATA_API_TOKEN,\n",
    "                     username=NY_OPEN_DATA_USERNAME,\n",
    "                     password=NY_OPEN_DATA_PASSWORD)\n",
    "\n",
    "results = client.get(mta.OriginDestination.code,\n",
    "                    where=f\"day_of_week in ('Monday', 'Tuesday') AND month = 1 AND year = 2023\",\n",
    "                    limit=100000000)\n",
    "\n",
    "\n",
    "records_df = pd.DataFrame.from_records(results)"
   ]
  },
  {
   "cell_type": "markdown",
   "metadata": {},
   "source": [
    "## Testing large extraction"
   ]
  },
  {
   "cell_type": "code",
   "execution_count": 4,
   "metadata": {},
   "outputs": [],
   "source": [
    "od_jan = mta.OriginDestination()"
   ]
  },
  {
   "cell_type": "code",
   "execution_count": 5,
   "metadata": {},
   "outputs": [],
   "source": [
    "start_time = \"'2023-01-02T00:00:00'\"\n",
    "end_time = \"'2023-01-31T0:00:00'\"\n",
    "\n",
    "od_jan.default_where_clause = f\"timestamp between {\n",
    "    start_time} and {end_time}\""
   ]
  },
  {
   "cell_type": "code",
   "execution_count": 9,
   "id": "f86e2958",
   "metadata": {},
   "outputs": [],
   "source": [
    "client = Socrata(\"data.ny.gov\",\n",
    "                     NY_OPEN_DATA_API_TOKEN,\n",
    "                     username=NY_OPEN_DATA_USERNAME,\n",
    "                     password=NY_OPEN_DATA_PASSWORD)\n",
    "\n",
    "results = client.get(od_jan.code,\n",
    "                    where=od_jan.default_where_clause,\n",
    "                    limit=100000000)\n",
    "\n",
    "\n",
    "records_df = pd.DataFrame.from_records(results)"
   ]
  },
  {
   "cell_type": "code",
   "execution_count": 13,
   "metadata": {},
   "outputs": [
    {
     "data": {
      "text/plain": [
       "150012640"
      ]
     },
     "execution_count": 13,
     "metadata": {},
     "output_type": "execute_result"
    }
   ],
   "source": [
    "records_df.size"
   ]
  },
  {
   "cell_type": "code",
   "execution_count": 14,
   "metadata": {},
   "outputs": [],
   "source": [
    "records_df.to_csv('test_size.csv')"
   ]
  },
  {
   "cell_type": "code",
   "execution_count": 12,
   "metadata": {},
   "outputs": [
    {
     "data": {
      "text/plain": [
       "┌──────────────┐\n",
       "│ count_star() │\n",
       "│    int64     │\n",
       "├──────────────┤\n",
       "│      2903057 │\n",
       "└──────────────┘"
      ]
     },
     "execution_count": 12,
     "metadata": {},
     "output_type": "execute_result"
    }
   ],
   "source": [
    "conn.sql('select count(*) from mta.origin_destination')"
   ]
  },
  {
   "cell_type": "code",
   "execution_count": 1,
   "metadata": {},
   "outputs": [],
   "source": [
    "def year_setup(overwrite=False) -> None:\n",
    "    \"\"\"\n",
    "\n",
    "    \"\"\"\n",
    "    od_template = mta.OriginDestination()\n",
    "    hr_template = mta.HourlyRidership()\n",
    "    default_name_od = od_template.table_name\n",
    "    default_name_hr = hr_template.table_name\n",
    "\n",
    "    timestamp_dict = {\n",
    "        1: {'start': \"'2023-01-01T00:00:00'\", 'end': \"'2023-02-01T00:00:00'\"},\n",
    "        2: {'start': \"'2023-02-01T00:00:00'\", 'end': \"'2023-03-01T00:00:00'\"},\n",
    "        3: {'start': \"'2023-03-01T00:00:00'\", 'end': \"'2023-04-01T00:00:00'\"},\n",
    "        4: {'start': \"'2023-04-01T00:00:00'\", 'end': \"'2023-05-01T00:00:00'\"},\n",
    "        5: {'start': \"'2023-05-01T00:00:00'\", 'end': \"'2023-06-01T00:00:00'\"},\n",
    "        6: {'start': \"'2023-06-01T00:00:00'\", 'end': \"'2023-07-01T00:00:00'\"},\n",
    "        7: {'start': \"'2023-07-01T00:00:00'\", 'end': \"'2023-08-01T00:00:00'\"},\n",
    "        8: {'start': \"'2023-08-01T00:00:00'\", 'end': \"'2023-09-01T00:00:00'\"},\n",
    "        9: {'start': \"'2023-09-01T00:00:00'\", 'end': \"'2023-10-01T00:00:00'\"},\n",
    "        10: {'start': \"'2023-10-01T00:00:00'\", 'end': \"'2023-11-01T00:00:00'\"},\n",
    "        11: {'start': \"'2023-11-01T00:00:00'\", 'end': \"'2023-12-01T00:00:00'\"},\n",
    "        12: {'start': \"'2023-12-01T00:00:00'\", 'end': \"'2024-01-01T00:00:00'\"}\n",
    "    }\n",
    "\n",
    "    with dbs.get_database_connection(DEV_DATABASE) as conn:\n",
    "        for month in range(12,13):\n",
    "            print(f'Building tables for month={month}')\n",
    "            where_clause = f\"month = {month} AND year = 2023\"\n",
    "            od_monthly = mta.OriginDestination(table_name = default_name_od+f'_{month}', default_where_clause=where_clause)\n",
    "            dbs.new_create_table(conn, od_monthly, overwrite=True)\n",
    "\n",
    "            hr_where_clause = f\"transit_timestamp >= {timestamp_dict[month].get('start')} and transit_timestamp < {\n",
    "                timestamp_dict[month].get('end')}\"\n",
    "\n",
    "            hr_monthly = mta.HourlyRidership(\n",
    "                table_name=default_name_hr+f'_{month}', default_where_clause=hr_where_clause)\n",
    "            dbs.new_create_table(conn, hr_monthly)"
   ]
  },
  {
   "cell_type": "code",
   "execution_count": 5,
   "metadata": {},
   "outputs": [
    {
     "name": "stdout",
     "output_type": "stream",
     "text": [
      "Building tables for month=12\n",
      "Starting extract for origin_destination_12\n",
      "Extract successful\n",
      "Creating table in database\n"
     ]
    }
   ],
   "source": [
    "year_setup()"
   ]
  },
  {
   "cell_type": "code",
   "execution_count": 6,
   "id": "4918b759",
   "metadata": {},
   "outputs": [],
   "source": [
    "conn.close()"
   ]
  },
  {
   "cell_type": "code",
   "execution_count": 15,
   "metadata": {},
   "outputs": [
    {
     "data": {
      "text/plain": [
       "┌───────────────┬──────────────┬──────────────────────┬────────────┬──────────────────────────────┬──────────────────────┬───────────────────────────┬──────────────────────────┬────────────────────────┬────────────────────┬──────────┬───────────────┬───────────────┐\n",
       "│ table_catalog │ table_schema │      table_name      │ table_type │ self_referencing_column_name │ reference_generation │ user_defined_type_catalog │ user_defined_type_schema │ user_defined_type_name │ is_insertable_into │ is_typed │ commit_action │ TABLE_COMMENT │\n",
       "│    varchar    │   varchar    │       varchar        │  varchar   │           varchar            │       varchar        │          varchar          │         varchar          │        varchar         │      varchar       │ varchar  │    varchar    │    varchar    │\n",
       "├───────────────┼──────────────┼──────────────────────┼────────────┼──────────────────────────────┼──────────────────────┼───────────────────────────┼──────────────────────────┼────────────────────────┼────────────────────┼──────────┼───────────────┼───────────────┤\n",
       "│ mta_dev       │ mta          │ hourly_ridership     │ BASE TABLE │ NULL                         │ NULL                 │ NULL                      │ NULL                     │ NULL                   │ YES                │ NO       │ NULL          │ NULL          │\n",
       "│ mta_dev       │ mta          │ hourly_ridership_1   │ BASE TABLE │ NULL                         │ NULL                 │ NULL                      │ NULL                     │ NULL                   │ YES                │ NO       │ NULL          │ NULL          │\n",
       "│ mta_dev       │ mta          │ hourly_ridership_2   │ BASE TABLE │ NULL                         │ NULL                 │ NULL                      │ NULL                     │ NULL                   │ YES                │ NO       │ NULL          │ NULL          │\n",
       "│ mta_dev       │ mta          │ origin_destination   │ BASE TABLE │ NULL                         │ NULL                 │ NULL                      │ NULL                     │ NULL                   │ YES                │ NO       │ NULL          │ NULL          │\n",
       "│ mta_dev       │ mta          │ origin_destination_1 │ BASE TABLE │ NULL                         │ NULL                 │ NULL                      │ NULL                     │ NULL                   │ YES                │ NO       │ NULL          │ NULL          │\n",
       "│ mta_dev       │ mta          │ origin_destination_2 │ BASE TABLE │ NULL                         │ NULL                 │ NULL                      │ NULL                     │ NULL                   │ YES                │ NO       │ NULL          │ NULL          │\n",
       "│ mta_dev       │ mta          │ reduced_fare         │ BASE TABLE │ NULL                         │ NULL                 │ NULL                      │ NULL                     │ NULL                   │ YES                │ NO       │ NULL          │ NULL          │\n",
       "│ mta_dev       │ mta          │ stations             │ BASE TABLE │ NULL                         │ NULL                 │ NULL                      │ NULL                     │ NULL                   │ YES                │ NO       │ NULL          │ NULL          │\n",
       "└───────────────┴──────────────┴──────────────────────┴────────────┴──────────────────────────────┴──────────────────────┴───────────────────────────┴──────────────────────────┴────────────────────────┴────────────────────┴──────────┴───────────────┴───────────────┘"
      ]
     },
     "execution_count": 15,
     "metadata": {},
     "output_type": "execute_result"
    }
   ],
   "source": [
    "conn.sql(\"select * from information_schema.tables where table_schema='mta'\")"
   ]
  },
  {
   "cell_type": "code",
   "execution_count": 18,
   "metadata": {},
   "outputs": [
    {
     "data": {
      "text/plain": [
       "┌──────────────┐\n",
       "│ count_star() │\n",
       "│    int64     │\n",
       "├──────────────┤\n",
       "│      2147754 │\n",
       "└──────────────┘"
      ]
     },
     "execution_count": 18,
     "metadata": {},
     "output_type": "execute_result"
    }
   ],
   "source": [
    "conn.sql('select count(*) from mta.hourly_ridership_1')"
   ]
  },
  {
   "cell_type": "code",
   "execution_count": null,
   "metadata": {},
   "outputs": [],
   "source": []
  }
 ],
 "metadata": {
  "kernelspec": {
   "display_name": "capstone",
   "language": "python",
   "name": "python3"
  },
  "language_info": {
   "codemirror_mode": {
    "name": "ipython",
    "version": 3
   },
   "file_extension": ".py",
   "mimetype": "text/x-python",
   "name": "python",
   "nbconvert_exporter": "python",
   "pygments_lexer": "ipython3",
   "version": "3.12.4"
  }
 },
 "nbformat": 4,
 "nbformat_minor": 5
}
