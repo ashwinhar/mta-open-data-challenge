{
 "cells": [
  {
   "cell_type": "code",
   "execution_count": 2,
   "id": "ed1abfd4-76f2-4227-a04c-7700da33010a",
   "metadata": {},
   "outputs": [
    {
     "name": "stdout",
     "output_type": "stream",
     "text": [
      "Intel MKL WARNING: Support of Intel(R) Streaming SIMD Extensions 4.2 (Intel(R) SSE4.2) enabled only processors has been deprecated. Intel oneAPI Math Kernel Library 2025.0 will require Intel(R) Advanced Vector Extensions (Intel(R) AVX) instructions.\n",
      "Intel MKL WARNING: Support of Intel(R) Streaming SIMD Extensions 4.2 (Intel(R) SSE4.2) enabled only processors has been deprecated. Intel oneAPI Math Kernel Library 2025.0 will require Intel(R) Advanced Vector Extensions (Intel(R) AVX) instructions.\n"
     ]
    }
   ],
   "source": [
    "# Full setup\n",
    "import duckdb\n",
    "import pandas as pd\n",
    "from sodapy import Socrata\n",
    "import config\n",
    "import database_setup as dbs\n",
    "from mta_dataset import *\n",
    "\n",
    "%reload_ext sql\n",
    "conn = dbs.get_database_connection(config.DEV_DATABASE)\n",
    "%sql conn --alias duckdb\n"
   ]
  },
  {
   "cell_type": "markdown",
   "id": "39f3aca3",
   "metadata": {},
   "source": [
    "## Misc"
   ]
  },
  {
   "cell_type": "code",
   "execution_count": 4,
   "id": "fd7b3008",
   "metadata": {},
   "outputs": [],
   "source": [
    "nearest_ada_stations_df = pd.read_csv('nearest_ada_stations.csv')\n",
    "dbs.create_schema(conn, 'manual_entry')\n",
    "\n",
    "table_name = 'manual_entry.nearest_ada_stations'\n",
    "dbs.create_table(conn, nearest_ada_stations_df, table_name)\n",
    "conn.close()"
   ]
  },
  {
   "cell_type": "markdown",
   "id": "50166e8c",
   "metadata": {},
   "source": [
    "## Testing new filter on the Socrata Client"
   ]
  },
  {
   "cell_type": "code",
   "execution_count": 20,
   "id": "325f8ecf",
   "metadata": {},
   "outputs": [],
   "source": [
    "start_time = \"'2023-01-02T00:00:00'\"\n",
    "end_time = \"'2023-01-04T0:00:00'\"\n",
    "\n",
    "client = Socrata(\"data.ny.gov\",\n",
    "                     config.NY_OPEN_DATA_API_TOKEN,\n",
    "                     username=config.NY_OPEN_DATA_USERNAME,\n",
    "                     password=config.NY_OPEN_DATA_PASSWORD)\n",
    "\n",
    "results = client.get(OriginDestination.code,\n",
    "                    where=f\"day_of_week in ('Monday', 'Tuesday') AND month = 1 AND year = 2023\",\n",
    "                    limit=100000000)\n",
    "\n",
    "\n",
    "records_df = pd.DataFrame.from_records(results)"
   ]
  },
  {
   "cell_type": "code",
   "execution_count": 21,
   "id": "d630242a",
   "metadata": {},
   "outputs": [
    {
     "data": {
      "text/plain": [
       "2881915"
      ]
     },
     "execution_count": 21,
     "metadata": {},
     "output_type": "execute_result"
    }
   ],
   "source": [
    "records_df.shape[0]"
   ]
  },
  {
   "cell_type": "code",
   "execution_count": 18,
   "id": "bda106b1",
   "metadata": {},
   "outputs": [],
   "source": [
    "records_df.to_csv('test_size')"
   ]
  },
  {
   "cell_type": "code",
   "execution_count": null,
   "id": "aad0ebe6",
   "metadata": {},
   "outputs": [],
   "source": []
  }
 ],
 "metadata": {
  "kernelspec": {
   "display_name": "capstone",
   "language": "python",
   "name": "python3"
  },
  "language_info": {
   "codemirror_mode": {
    "name": "ipython",
    "version": 3
   },
   "file_extension": ".py",
   "mimetype": "text/x-python",
   "name": "python",
   "nbconvert_exporter": "python",
   "pygments_lexer": "ipython3",
   "version": "3.12.4"
  }
 },
 "nbformat": 4,
 "nbformat_minor": 5
}
