{
 "cells": [
  {
   "cell_type": "code",
   "execution_count": 3,
   "id": "c32c4f08",
   "metadata": {},
   "outputs": [
    {
     "name": "stdout",
     "output_type": "stream",
     "text": [
      "87ebd830\n"
     ]
    }
   ],
   "source": [
    "from dotenv import load_dotenv\n",
    "import os\n",
    "\n",
    "load_dotenv()\n",
    "\n",
    "# Append PYTHONPATH to system path if not already present\n",
    "print(os.getenv('TRAVEL_TIME_APP_ID'))"
   ]
  },
  {
   "cell_type": "code",
   "execution_count": 3,
   "id": "ed1abfd4-76f2-4227-a04c-7700da33010a",
   "metadata": {},
   "outputs": [
    {
     "ename": "AttributeError",
     "evalue": "module 'database_setup.database_setup' has no attribute 'config'",
     "output_type": "error",
     "traceback": [
      "\u001b[0;31m---------------------------------------------------------------------------\u001b[0m",
      "\u001b[0;31mAttributeError\u001b[0m                            Traceback (most recent call last)",
      "Cell \u001b[0;32mIn[3], line 8\u001b[0m\n\u001b[1;32m      5\u001b[0m \u001b[38;5;28;01mimport\u001b[39;00m \u001b[38;5;21;01mdatabase_setup\u001b[39;00m\u001b[38;5;21;01m.\u001b[39;00m\u001b[38;5;21;01mdatabase_setup\u001b[39;00m \u001b[38;5;28;01mas\u001b[39;00m \u001b[38;5;21;01mdbs\u001b[39;00m\n\u001b[1;32m      7\u001b[0m get_ipython()\u001b[38;5;241m.\u001b[39mrun_line_magic(\u001b[38;5;124m'\u001b[39m\u001b[38;5;124mreload_ext\u001b[39m\u001b[38;5;124m'\u001b[39m, \u001b[38;5;124m'\u001b[39m\u001b[38;5;124msql\u001b[39m\u001b[38;5;124m'\u001b[39m)\n\u001b[0;32m----> 8\u001b[0m conn \u001b[38;5;241m=\u001b[39m dbs\u001b[38;5;241m.\u001b[39mget_database_connection(\u001b[43mdbs\u001b[49m\u001b[38;5;241;43m.\u001b[39;49m\u001b[43mconfig\u001b[49m\u001b[38;5;241m.\u001b[39mDEV_DATABASE)\n\u001b[1;32m      9\u001b[0m get_ipython()\u001b[38;5;241m.\u001b[39mrun_line_magic(\u001b[38;5;124m'\u001b[39m\u001b[38;5;124msql\u001b[39m\u001b[38;5;124m'\u001b[39m, \u001b[38;5;124m'\u001b[39m\u001b[38;5;124mconn --alias duckdb\u001b[39m\u001b[38;5;124m'\u001b[39m)\n",
      "\u001b[0;31mAttributeError\u001b[0m: module 'database_setup.database_setup' has no attribute 'config'"
     ]
    }
   ],
   "source": [
    "# Full setup\n",
    "import duckdb\n",
    "import pandas as pd\n",
    "from sodapy import Socrata\n",
    "import database_setup.database_setup as dbs\n",
    "\n",
    "%reload_ext sql\n",
    "conn = dbs.get_database_connection(dbs.config.DEV_DATABASE)\n",
    "%sql conn --alias duckdb\n"
   ]
  },
  {
   "cell_type": "markdown",
   "id": "39f3aca3",
   "metadata": {},
   "source": [
    "## Misc"
   ]
  },
  {
   "cell_type": "code",
   "execution_count": 4,
   "id": "fd7b3008",
   "metadata": {},
   "outputs": [],
   "source": [
    "nearest_ada_stations_df = pd.read_csv('nearest_ada_stations.csv')\n",
    "dbs.create_schema(conn, 'manual_entry')\n",
    "\n",
    "table_name = 'manual_entry.nearest_ada_stations'\n",
    "dbs.create_table(conn, nearest_ada_stations_df, table_name)\n",
    "conn.close()"
   ]
  },
  {
   "cell_type": "markdown",
   "id": "50166e8c",
   "metadata": {},
   "source": [
    "## Testing new filter on the Socrata Client"
   ]
  },
  {
   "cell_type": "code",
   "execution_count": 20,
   "id": "325f8ecf",
   "metadata": {},
   "outputs": [],
   "source": [
    "start_time = \"'2023-01-02T00:00:00'\"\n",
    "end_time = \"'2023-01-04T0:00:00'\"\n",
    "\n",
    "client = Socrata(\"data.ny.gov\",\n",
    "                     config.NY_OPEN_DATA_API_TOKEN,\n",
    "                     username=config.NY_OPEN_DATA_USERNAME,\n",
    "                     password=config.NY_OPEN_DATA_PASSWORD)\n",
    "\n",
    "results = client.get(OriginDestination.code,\n",
    "                    where=f\"day_of_week in ('Monday', 'Tuesday') AND month = 1 AND year = 2023\",\n",
    "                    limit=100000000)\n",
    "\n",
    "\n",
    "records_df = pd.DataFrame.from_records(results)"
   ]
  },
  {
   "cell_type": "code",
   "execution_count": 21,
   "id": "d630242a",
   "metadata": {},
   "outputs": [
    {
     "data": {
      "text/plain": [
       "2881915"
      ]
     },
     "execution_count": 21,
     "metadata": {},
     "output_type": "execute_result"
    }
   ],
   "source": [
    "records_df.shape[0]"
   ]
  },
  {
   "cell_type": "code",
   "execution_count": 18,
   "id": "bda106b1",
   "metadata": {},
   "outputs": [],
   "source": [
    "records_df.to_csv('test_size')"
   ]
  }
 ],
 "metadata": {
  "kernelspec": {
   "display_name": "capstone",
   "language": "python",
   "name": "python3"
  },
  "language_info": {
   "codemirror_mode": {
    "name": "ipython",
    "version": 3
   },
   "file_extension": ".py",
   "mimetype": "text/x-python",
   "name": "python",
   "nbconvert_exporter": "python",
   "pygments_lexer": "ipython3",
   "version": "3.12.4"
  }
 },
 "nbformat": 4,
 "nbformat_minor": 5
}
