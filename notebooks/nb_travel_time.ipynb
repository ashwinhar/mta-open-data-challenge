{
 "cells": [
  {
   "cell_type": "markdown",
   "metadata": {},
   "source": [
    "## Setup"
   ]
  },
  {
   "cell_type": "code",
   "execution_count": 1,
   "metadata": {},
   "outputs": [
    {
     "name": "stdout",
     "output_type": "stream",
     "text": [
      "Intel MKL WARNING: Support of Intel(R) Streaming SIMD Extensions 4.2 (Intel(R) SSE4.2) enabled only processors has been deprecated. Intel oneAPI Math Kernel Library 2025.0 will require Intel(R) Advanced Vector Extensions (Intel(R) AVX) instructions.\n",
      "Intel MKL WARNING: Support of Intel(R) Streaming SIMD Extensions 4.2 (Intel(R) SSE4.2) enabled only processors has been deprecated. Intel oneAPI Math Kernel Library 2025.0 will require Intel(R) Advanced Vector Extensions (Intel(R) AVX) instructions.\n"
     ]
    }
   ],
   "source": [
    "from traveltimepy import Location, Transportation, Walking, Coordinates, TravelTimeSdk, Property, FullRange\n",
    "# Full setup\n",
    "import pandas as pd\n",
    "import asyncio\n",
    "from datetime import datetime\n",
    "from dataclasses import dataclass\n",
    "\n",
    "df_latlongs = pd.read_csv('latlongs.csv')"
   ]
  },
  {
   "cell_type": "markdown",
   "metadata": {},
   "source": [
    "## Functions"
   ]
  },
  {
   "cell_type": "code",
   "execution_count": 8,
   "metadata": {},
   "outputs": [],
   "source": [
    "@dataclass\n",
    "class StationGeography: \n",
    "    '''Simple way to store a station identifier (no tight definition around this) and a lat/long pair'''\n",
    "    station_id: str     # Any identifier for the station\n",
    "    latitude: float     \n",
    "    longitude: float\n",
    "\n",
    "\n",
    "async def time_filter_wrapper(sdk: TravelTimeSdk, origin:StationGeography, destination:StationGeography, transport_type:Transportation) -> int:\n",
    "    \"\"\"\n",
    "    Wrapper to get TravelTimeSdk to work with code. Largely copied from the API documentation.\n",
    "    This is set as async in Python because the function in the API requires it.\n",
    "\n",
    "    Parameters:\n",
    "        sdk - Instance of TravelTimeSdk with app_id and api_key, which you can get for free\n",
    "        origin - Instance of StationGeography, this is the origin of the trip\n",
    "        destination - Instnace of StationGeography, this is the destination of the trip\n",
    "        transport_type - Could pass any instance of Transportation. \n",
    "\n",
    "\n",
    "    \"\"\"\n",
    "    locations = [\n",
    "        Location(id=origin.station_id, coords=Coordinates(\n",
    "            lat=origin.latitude, lng=origin.longitude)),\n",
    "        Location(id=destination.station_id, coords=Coordinates(\n",
    "            lat=destination.latitude, lng=destination.longitude))\n",
    "    ]\n",
    "\n",
    "    results = await sdk.time_filter_async(\n",
    "        locations=locations,\n",
    "        search_ids={\n",
    "            origin.station_id: [destination.station_id]\n",
    "        },\n",
    "        departure_time=datetime.now(),\n",
    "        travel_time=10800,  # max travel time (sec) allowed by the API, ensures that it doesn't return NULL, even if there is a valid path\n",
    "        transportation=transport_type,  # I pass either Walking or Transportation(public_transit = \"train\")\n",
    "        properties=[Property.TRAVEL_TIME],\n",
    "        range=FullRange(enabled=False, max_results=3, width=600)\n",
    "    )\n",
    "    try:\n",
    "        # The API is funky, so the extraction doesn't work sometimes\n",
    "        travel_time = results[0].__dict__.get('locations')[0].properties[0].travel_time\n",
    "    except Exception as e:\n",
    "        print(e)\n",
    "        travel_time = None\n",
    "    \n",
    "    return travel_time\n",
    "\n",
    "#async def travel_time_process(row:pd.Series, sdk: TravelTimeSdk, transport_type:Transportation) -> int:\n",
    "    # destination = StationGeography(row['planned_ada_station_name'], \n",
    "    #                                    row['planned_ada_complex_latitude'], \n",
    "    #                                    row['planned_ada_complex_longitude'])\n",
    "    # origin = StationGeography(\n",
    "    # row['existing_ada_stop_name'],\n",
    "    # row['existing_ada_complex_latitude'],\n",
    "    # row['existing_ada_complex_longitude']\n",
    "    # )\n",
    "    #     # Check if an event loop is already running\n",
    "    # if not asyncio.get_event_loop().is_running():\n",
    "    #     results = asyncio.run(time_filter_wrapper(sdk, origin, destination, transport_type))\n",
    "    # else:\n",
    "    #     # Use `await` if you're in an interactive environment like Jupyter\n",
    "    #     results = await time_filter_wrapper(sdk, origin, destination, transport_type)\n",
    "\n",
    "async def process_all_rows(sdk:TravelTimeSdk, df: pd.DataFrame):\n",
    "    \"\"\"\n",
    "    New attempt at running all rows in a dataframe\n",
    "\n",
    "    sdk: Instance of TravelTimeSdk\n",
    "    df: Dataframe in the specific latlong format from the data model\n",
    "    \"\"\"\n",
    "\n",
    "    for index, row in df.iterrows():\n",
    "        destination = StationGeography(row['planned_ada_station_name'], \n",
    "                                   row['planned_ada_complex_latitude'], \n",
    "                                   row['planned_ada_complex_longitude'])\n",
    "        origin = StationGeography(row['existing_ada_stop_name'],\n",
    "                                  row['existing_ada_complex_latitude'],\n",
    "                                  row['existing_ada_complex_longitude'])\n",
    "        walking_time_sec = await time_filter_wrapper(sdk, origin, destination, Walking())\n",
    "        df.at[index, 'walking_time_sec'] = walking_time_sec\n",
    "\n",
    "    return df"
   ]
  },
  {
   "cell_type": "code",
   "execution_count": 12,
   "metadata": {},
   "outputs": [
    {
     "ename": "RuntimeError",
     "evalue": "asyncio.run() cannot be called from a running event loop",
     "output_type": "error",
     "traceback": [
      "\u001b[0;31m---------------------------------------------------------------------------\u001b[0m",
      "\u001b[0;31mRuntimeError\u001b[0m                              Traceback (most recent call last)",
      "Cell \u001b[0;32mIn[12], line 4\u001b[0m\n\u001b[1;32m      1\u001b[0m sdk \u001b[38;5;241m=\u001b[39m TravelTimeSdk(app_id\u001b[38;5;241m=\u001b[39m\u001b[38;5;124m\"\u001b[39m\u001b[38;5;124m87ebd830\u001b[39m\u001b[38;5;124m\"\u001b[39m,\n\u001b[1;32m      2\u001b[0m                     api_key\u001b[38;5;241m=\u001b[39m\u001b[38;5;124m\"\u001b[39m\u001b[38;5;124ma084a6856d76b7580d8390859bff3ac8\u001b[39m\u001b[38;5;124m\"\u001b[39m)\n\u001b[0;32m----> 4\u001b[0m new_df \u001b[38;5;241m=\u001b[39m \u001b[43masyncio\u001b[49m\u001b[38;5;241;43m.\u001b[39;49m\u001b[43mrun\u001b[49m\u001b[43m(\u001b[49m\u001b[43mprocess_all_rows\u001b[49m\u001b[43m(\u001b[49m\u001b[43msdk\u001b[49m\u001b[43m,\u001b[49m\u001b[43m \u001b[49m\u001b[43mdf_latlongs\u001b[49m\u001b[38;5;241;43m.\u001b[39;49m\u001b[43mhead\u001b[49m\u001b[43m(\u001b[49m\u001b[43mn\u001b[49m\u001b[38;5;241;43m=\u001b[39;49m\u001b[38;5;241;43m3\u001b[39;49m\u001b[43m)\u001b[49m\u001b[43m)\u001b[49m\u001b[43m)\u001b[49m\n",
      "File \u001b[0;32m~/opt/anaconda3/envs/capstone/lib/python3.12/asyncio/runners.py:190\u001b[0m, in \u001b[0;36mrun\u001b[0;34m(main, debug, loop_factory)\u001b[0m\n\u001b[1;32m    161\u001b[0m \u001b[38;5;250m\u001b[39m\u001b[38;5;124;03m\"\"\"Execute the coroutine and return the result.\u001b[39;00m\n\u001b[1;32m    162\u001b[0m \n\u001b[1;32m    163\u001b[0m \u001b[38;5;124;03mThis function runs the passed coroutine, taking care of\u001b[39;00m\n\u001b[0;32m   (...)\u001b[0m\n\u001b[1;32m    186\u001b[0m \u001b[38;5;124;03m    asyncio.run(main())\u001b[39;00m\n\u001b[1;32m    187\u001b[0m \u001b[38;5;124;03m\"\"\"\u001b[39;00m\n\u001b[1;32m    188\u001b[0m \u001b[38;5;28;01mif\u001b[39;00m events\u001b[38;5;241m.\u001b[39m_get_running_loop() \u001b[38;5;129;01mis\u001b[39;00m \u001b[38;5;129;01mnot\u001b[39;00m \u001b[38;5;28;01mNone\u001b[39;00m:\n\u001b[1;32m    189\u001b[0m     \u001b[38;5;66;03m# fail fast with short traceback\u001b[39;00m\n\u001b[0;32m--> 190\u001b[0m     \u001b[38;5;28;01mraise\u001b[39;00m \u001b[38;5;167;01mRuntimeError\u001b[39;00m(\n\u001b[1;32m    191\u001b[0m         \u001b[38;5;124m\"\u001b[39m\u001b[38;5;124masyncio.run() cannot be called from a running event loop\u001b[39m\u001b[38;5;124m\"\u001b[39m)\n\u001b[1;32m    193\u001b[0m \u001b[38;5;28;01mwith\u001b[39;00m Runner(debug\u001b[38;5;241m=\u001b[39mdebug, loop_factory\u001b[38;5;241m=\u001b[39mloop_factory) \u001b[38;5;28;01mas\u001b[39;00m runner:\n\u001b[1;32m    194\u001b[0m     \u001b[38;5;28;01mreturn\u001b[39;00m runner\u001b[38;5;241m.\u001b[39mrun(main)\n",
      "\u001b[0;31mRuntimeError\u001b[0m: asyncio.run() cannot be called from a running event loop"
     ]
    }
   ],
   "source": [
    "sdk = TravelTimeSdk(app_id=\"87ebd830\",\n",
    "                    api_key=\"a084a6856d76b7580d8390859bff3ac8\")\n",
    "\n",
    "new_df = asyncio.run(process_all_rows(sdk, df_latlongs.head(n=3)))\n"
   ]
  },
  {
   "cell_type": "code",
   "execution_count": null,
   "metadata": {},
   "outputs": [],
   "source": []
  }
 ],
 "metadata": {
  "kernelspec": {
   "display_name": "capstone",
   "language": "python",
   "name": "python3"
  },
  "language_info": {
   "codemirror_mode": {
    "name": "ipython",
    "version": 3
   },
   "file_extension": ".py",
   "mimetype": "text/x-python",
   "name": "python",
   "nbconvert_exporter": "python",
   "pygments_lexer": "ipython3",
   "version": "3.12.4"
  }
 },
 "nbformat": 4,
 "nbformat_minor": 2
}
